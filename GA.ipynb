{
 "cells": [
  {
   "cell_type": "code",
   "execution_count": 27,
   "id": "92b29f58",
   "metadata": {},
   "outputs": [],
   "source": [
    "import numpy as np\n",
    "import pandas as pd\n",
    "import random"
   ]
  },
  {
   "cell_type": "code",
   "execution_count": 28,
   "id": "9e1c528a",
   "metadata": {},
   "outputs": [],
   "source": [
    "df = pd.read_csv('nutrients_csvfile.csv', encoding='ISO-8859-1')"
   ]
  },
  {
   "cell_type": "code",
   "execution_count": 29,
   "id": "6cd471a1",
   "metadata": {},
   "outputs": [
    {
     "data": {
      "text/html": [
       "<div>\n",
       "<style scoped>\n",
       "    .dataframe tbody tr th:only-of-type {\n",
       "        vertical-align: middle;\n",
       "    }\n",
       "\n",
       "    .dataframe tbody tr th {\n",
       "        vertical-align: top;\n",
       "    }\n",
       "\n",
       "    .dataframe thead th {\n",
       "        text-align: right;\n",
       "    }\n",
       "</style>\n",
       "<table border=\"1\" class=\"dataframe\">\n",
       "  <thead>\n",
       "    <tr style=\"text-align: right;\">\n",
       "      <th></th>\n",
       "      <th>Food</th>\n",
       "      <th>Measure</th>\n",
       "      <th>Grams</th>\n",
       "      <th>Calories</th>\n",
       "      <th>Protein</th>\n",
       "      <th>Fat</th>\n",
       "      <th>Sat.Fat</th>\n",
       "      <th>Fiber</th>\n",
       "      <th>Carbs</th>\n",
       "      <th>Category</th>\n",
       "    </tr>\n",
       "  </thead>\n",
       "  <tbody>\n",
       "    <tr>\n",
       "      <th>0</th>\n",
       "      <td>Cows' milk</td>\n",
       "      <td>1 qt.</td>\n",
       "      <td>976.0</td>\n",
       "      <td>660.0</td>\n",
       "      <td>32.0</td>\n",
       "      <td>40.0</td>\n",
       "      <td>36.0</td>\n",
       "      <td>0.0</td>\n",
       "      <td>48.0</td>\n",
       "      <td>Dairy products</td>\n",
       "    </tr>\n",
       "    <tr>\n",
       "      <th>1</th>\n",
       "      <td>Milk skim</td>\n",
       "      <td>1 qt.</td>\n",
       "      <td>984.0</td>\n",
       "      <td>360.0</td>\n",
       "      <td>36.0</td>\n",
       "      <td>0.0</td>\n",
       "      <td>0.0</td>\n",
       "      <td>0.0</td>\n",
       "      <td>52.0</td>\n",
       "      <td>Dairy products</td>\n",
       "    </tr>\n",
       "    <tr>\n",
       "      <th>2</th>\n",
       "      <td>Buttermilk</td>\n",
       "      <td>1 cup</td>\n",
       "      <td>246.0</td>\n",
       "      <td>127.0</td>\n",
       "      <td>9.0</td>\n",
       "      <td>5.0</td>\n",
       "      <td>4.0</td>\n",
       "      <td>0.0</td>\n",
       "      <td>13.0</td>\n",
       "      <td>Dairy products</td>\n",
       "    </tr>\n",
       "    <tr>\n",
       "      <th>3</th>\n",
       "      <td>Evaporated, undiluted</td>\n",
       "      <td>1 cup</td>\n",
       "      <td>252.0</td>\n",
       "      <td>345.0</td>\n",
       "      <td>16.0</td>\n",
       "      <td>20.0</td>\n",
       "      <td>18.0</td>\n",
       "      <td>0.0</td>\n",
       "      <td>24.0</td>\n",
       "      <td>Dairy products</td>\n",
       "    </tr>\n",
       "    <tr>\n",
       "      <th>4</th>\n",
       "      <td>Fortified milk</td>\n",
       "      <td>6 cups</td>\n",
       "      <td>0.0</td>\n",
       "      <td>0.0</td>\n",
       "      <td>89.0</td>\n",
       "      <td>42.0</td>\n",
       "      <td>23.0</td>\n",
       "      <td>1.4</td>\n",
       "      <td>119.0</td>\n",
       "      <td>Dairy products</td>\n",
       "    </tr>\n",
       "  </tbody>\n",
       "</table>\n",
       "</div>"
      ],
      "text/plain": [
       "                    Food Measure  Grams Calories Protein   Fat Sat.Fat Fiber  \\\n",
       "0             Cows' milk   1 qt.  976.0    660.0    32.0  40.0    36.0   0.0   \n",
       "1              Milk skim   1 qt.  984.0    360.0    36.0   0.0     0.0   0.0   \n",
       "2             Buttermilk   1 cup  246.0    127.0     9.0   5.0     4.0   0.0   \n",
       "3  Evaporated, undiluted   1 cup  252.0    345.0    16.0  20.0    18.0   0.0   \n",
       "4         Fortified milk  6 cups    0.0      0.0    89.0  42.0    23.0   1.4   \n",
       "\n",
       "   Carbs        Category  \n",
       "0   48.0  Dairy products  \n",
       "1   52.0  Dairy products  \n",
       "2   13.0  Dairy products  \n",
       "3   24.0  Dairy products  \n",
       "4  119.0  Dairy products  "
      ]
     },
     "execution_count": 29,
     "metadata": {},
     "output_type": "execute_result"
    }
   ],
   "source": [
    "df.iloc[:, 2:9] = df.iloc[:, 2:9].apply(pd.to_numeric, errors='coerce').fillna(0)\n",
    "df.head()"
   ]
  },
  {
   "cell_type": "code",
   "execution_count": 30,
   "id": "fcf67b51",
   "metadata": {},
   "outputs": [],
   "source": [
    "for row in df:\n",
    "    data_list = df.values.tolist()\n",
    "    \n",
    "category_column = list({item[-1] for item in data_list})"
   ]
  },
  {
   "cell_type": "code",
   "execution_count": 31,
   "id": "f1e8ce6f",
   "metadata": {},
   "outputs": [],
   "source": [
    "def random_num(start, end):\n",
    "    range_val = (end - start) + 1\n",
    "    random_int = start + random.randint(0, range_val - 1)\n",
    "    return random_int"
   ]
  },
  {
   "cell_type": "code",
   "execution_count": 32,
   "id": "f50d9ea3",
   "metadata": {},
   "outputs": [],
   "source": [
    "num_group_morning = 3\n",
    "num_group_lunch = 4\n",
    "num_group_dinner = 4\n",
    "num_group_snack = 1\n",
    "total_group = 12 #num_genes\n",
    "\n",
    "G1 = ['Dairy products']\n",
    "G2 = ['Breads, cereals, fastfood,grains']\n",
    "G3 = ['Fish, Seafood','Meat, Poultry']\n",
    "G4 = ['Fats, Oils, Shortenings']\n",
    "G5 = ['Vegetables A-E', 'Vegetables R-Z', 'Vegetables F-P']\n",
    "G6 = ['Fruits A-F', 'Fruits G-P', 'Fruits R-Z']\n",
    "G7 = ['Seeds and Nuts']\n",
    "G8 = ['Soups']\n",
    "G9 = ['Desserts, sweets', 'Drinks,Alcohol, Beverages', 'Jams, Jellies']\n",
    "\n",
    "population_size = 25\n",
    "num_generations = 50\n",
    "mutation_rate = 0.1\n",
    "\n",
    "weight = 50\n",
    "tdee = 2000\n",
    "aim = 'Giữ cân'\n",
    "favourite = ['Apple juice canned', 'Beans', 'Salmon', 'Beef', 'Corn oil']"
   ]
  },
  {
   "cell_type": "code",
   "execution_count": 33,
   "id": "b61738f3",
   "metadata": {},
   "outputs": [],
   "source": [
    "def calculate_fitness_morning(morning_menu):\n",
    "    point = 0\n",
    "    point -= len(morning_menu)-len(set(item[9] for item in morning_menu))\n",
    "    for item in morning_menu:\n",
    "        point += 1 if (item[9] in G1) else 0\n",
    "        point += 1 if (item[9] in G2) else 0\n",
    "        point += 1 if (item[9] in G6) else 0\n",
    "        point += 1 if (item[9] in G5) else 0\n",
    "        point += 1 if (item[9] in G7) else 0\n",
    "        point += 1 if (item[9] in G8) else 0\n",
    "        point += 1 if (item[9] in G9) else 0\n",
    "\n",
    "    return point"
   ]
  },
  {
   "cell_type": "code",
   "execution_count": 34,
   "id": "a9f547e6",
   "metadata": {},
   "outputs": [],
   "source": [
    "def calculate_fitness_lunch(lunch_menu):\n",
    "    point = 0\n",
    "    point -= len(lunch_menu)-len(set(item[9] for item in lunch_menu))\n",
    "    for item in lunch_menu:     \n",
    "        point += 1 if (item[9] in G2) else 0\n",
    "        point += 1 if (item[9] in G3) else 0\n",
    "        point += 1 if (item[9] in G5) else 0\n",
    "        point += 1 if (item[9] in G6) else 0\n",
    "        point += 1 if (item[9] in G8) else 0\n",
    "        \n",
    "    return point\n",
    "    "
   ]
  },
  {
   "cell_type": "code",
   "execution_count": 35,
   "id": "88891fde",
   "metadata": {},
   "outputs": [],
   "source": [
    "def calculate_fitness_dinner(dinner_menu):\n",
    "    point = 0\n",
    "    point -= len(dinner_menu)-len(set(item[9] for item in dinner_menu))\n",
    "    for item in dinner_menu:\n",
    "        point += 1 if (item[9] in G2) else 0\n",
    "        point += 1 if (item[9] in G3) else 0\n",
    "        point += 1 if (item[9] in G5) else 0\n",
    "        point += 1 if (item[9] in G6) else 0\n",
    "        point += 1 if (item[9] in G8) else 0\n",
    "        point += 1 if (item[9] in G9) else 0\n",
    "            \n",
    "    return point"
   ]
  },
  {
   "cell_type": "code",
   "execution_count": 36,
   "id": "bb5874ac",
   "metadata": {},
   "outputs": [],
   "source": [
    "def calculate_fitness_snack(snack_menu):\n",
    "    point = 0\n",
    "    point -= len(snack_menu)-len(set(item[9] for item in snack_menu))\n",
    "    for item in snack_menu:\n",
    "        point += 1 if (item[9] in G1) else 0\n",
    "        point += 1 if (item[9] in G5) else 0\n",
    "        point += 1 if (item[9] in G6) else 0\n",
    "        point += 1 if (item[9] in G7) else 0\n",
    "        point += 1 if (item[9] in G9) else 0\n",
    "            \n",
    "    return point"
   ]
  },
  {
   "cell_type": "code",
   "execution_count": 37,
   "id": "5e1da64f",
   "metadata": {},
   "outputs": [],
   "source": [
    "def calculate_fitness_calories(menu):\n",
    "    point = 0 \n",
    "    total_calo = sum(float(row[3]) for row in menu)\n",
    "    \n",
    "    if(total_calo >= tdee):\n",
    "        if(aim == 'Tăng cân'):\n",
    "            point += 2\n",
    "        elif(aim == 'Giảm cân'):\n",
    "            point -= 2\n",
    "    else:\n",
    "        if(aim == 'Tăng cân'):\n",
    "            point -= 2\n",
    "        elif(aim == 'Giảm cân'):\n",
    "            point += 2\n",
    "        \n",
    "    return point\n",
    "    "
   ]
  },
  {
   "cell_type": "code",
   "execution_count": 38,
   "id": "1d78e978",
   "metadata": {},
   "outputs": [],
   "source": [
    "def calculate_fitness_favorite(menu):\n",
    "    point = 0\n",
    "    flattened_menu = [item[0] for item in menu]\n",
    "    for item in flattened_menu:\n",
    "        point += 1 if (item in favourite) else 0\n",
    "            \n",
    "    return point "
   ]
  },
  {
   "cell_type": "code",
   "execution_count": 39,
   "id": "eb733445",
   "metadata": {},
   "outputs": [],
   "source": [
    "def calculate_fitness_nutrient(menu):\n",
    "    point = 0\n",
    "    #constraint nutrient\n",
    "    protein_a_day = weight * 1.2 \n",
    "    fat_a_day = tdee * (25/100) / 9\n",
    "    sal_fat_a_day = tdee * (7/100) / 9\n",
    "    fiber_a_day = weight * 38\n",
    "    carbs_a_day = tdee * (35/100) / 4\n",
    "    \n",
    "    total_protein = sum(float(row[4]) for row in menu)\n",
    "    total_fat = sum(float(row[5]) for row in menu)\n",
    "    total_sal_fat = sum(float(row[6]) for row in menu)\n",
    "    total_fiber = sum(float(row[7]) for row in menu)\n",
    "    total_carbs = sum(float(row[8]) for row in menu)\n",
    "\n",
    "    point += 1 if (abs(total_protein - protein_a_day) < 30) else -1\n",
    "    point += 1 if (total_fat < fat_a_day) else -1\n",
    "    point += 1 if (total_sal_fat < sal_fat_a_day) else -1\n",
    "    point += 1 if (total_carbs < carbs_a_day) else -1\n",
    "    \n",
    "    return point "
   ]
  },
  {
   "cell_type": "code",
   "execution_count": 40,
   "id": "18778780",
   "metadata": {},
   "outputs": [],
   "source": [
    "def mutated_genes():\n",
    "    length_data = len(data_list); \n",
    "    random_index = random_num(0, length_data-1); \n",
    "    return data_list[random_index]; \n"
   ]
  },
  {
   "cell_type": "code",
   "execution_count": 41,
   "id": "af67254d",
   "metadata": {},
   "outputs": [],
   "source": [
    "def calculate_fitness(menu):\n",
    "    point = 0 \n",
    "    morning_group = []\n",
    "    lunch_group = []\n",
    "    dinner_group = []\n",
    "    snack_group = []\n",
    "\n",
    "    for index, item in enumerate(menu):\n",
    "        if index < num_group_morning:\n",
    "            morning_group.append(item)\n",
    "        elif index < num_group_morning + num_group_lunch:\n",
    "            lunch_group.append(item)\n",
    "        elif index < num_group_morning + num_group_lunch + num_group_dinner:\n",
    "            dinner_group.append(item)\n",
    "        else:\n",
    "            snack_group.append(item)\n",
    "    \n",
    "    point += calculate_fitness_morning(morning_group)\n",
    "    point += calculate_fitness_lunch(lunch_group)\n",
    "    point += calculate_fitness_dinner(dinner_group)\n",
    "    point += calculate_fitness_snack(snack_group)\n",
    "    point += calculate_fitness_calories(menu)\n",
    "    point += calculate_fitness_favorite(menu)\n",
    "    point += calculate_fitness_nutrient(menu)\n",
    "    \n",
    "    return point"
   ]
  },
  {
   "cell_type": "code",
   "execution_count": 42,
   "id": "ace1ce4a",
   "metadata": {},
   "outputs": [],
   "source": [
    "def create_menu():\n",
    "    menu_list = []\n",
    "    for i in range(total_group):\n",
    "        menu_list.append(mutated_genes())\n",
    "    return menu_list\n"
   ]
  },
  {
   "cell_type": "code",
   "execution_count": 43,
   "id": "923c72c6",
   "metadata": {},
   "outputs": [],
   "source": [
    "#test\n",
    "total_protein2 = 0\n",
    "menu = create_menu()\n"
   ]
  },
  {
   "cell_type": "code",
   "execution_count": 44,
   "id": "e5ec235d",
   "metadata": {},
   "outputs": [],
   "source": [
    "def create_init_population():\n",
    "    return [create_menu() for _ in range(population_size)]"
   ]
  },
  {
   "cell_type": "code",
   "execution_count": 45,
   "id": "b32a7e30",
   "metadata": {},
   "outputs": [],
   "source": [
    "def select_parents(population, fitness_scores):\n",
    "\n",
    "    selected_parents = []\n",
    "    \n",
    "    sorted_indices = np.argsort(fitness_scores)[::-1].tolist()\n",
    "    selected_population = [population[i] for i in sorted_indices[:population_size // 2]]\n",
    "    fitness_scores2 = [calculate_fitness(menu) for menu in selected_population]\n",
    "    \n",
    "    return selected_population"
   ]
  },
  {
   "cell_type": "code",
   "execution_count": 46,
   "id": "5d5d1761",
   "metadata": {},
   "outputs": [],
   "source": [
    "def crossover(parent1, parent2):\n",
    "    crossover_point = random.randint(1, total_group - 1)\n",
    "    child1 = parent1[:crossover_point] + parent2[crossover_point:]\n",
    "    child2 = parent2[:crossover_point] + parent1[crossover_point:]\n",
    "    \n",
    "    return child1, child2"
   ]
  },
  {
   "cell_type": "code",
   "execution_count": 47,
   "id": "a0245333",
   "metadata": {},
   "outputs": [],
   "source": [
    "def mutate(menu):\n",
    "    for i in range(total_group):\n",
    "        if random.uniform(0, 1) < mutation_rate:\n",
    "            menu[i] = random.choice(data_list)\n",
    "    return menu\n"
   ]
  },
  {
   "cell_type": "code",
   "execution_count": 48,
   "id": "a0d10885",
   "metadata": {},
   "outputs": [],
   "source": [
    "def print_menu(menu):\n",
    "    total_calo = 0\n",
    "    morning_group = []\n",
    "    lunch_group = []\n",
    "    dinner_group = []\n",
    "    snack_group = []\n",
    "\n",
    "    for index, item in enumerate(menu):\n",
    "        if index < num_group_morning:\n",
    "            morning_group.append(item)\n",
    "        elif index < num_group_morning + num_group_lunch:\n",
    "            lunch_group.append(item)\n",
    "        elif index < num_group_morning + num_group_lunch + num_group_dinner:\n",
    "            dinner_group.append(item)\n",
    "        else:\n",
    "            snack_group.append(item)\n",
    "            \n",
    "    print('Bữa sáng: ', morning_group)\n",
    "    print('Bữa trưa: ', lunch_group)\n",
    "    print('Bữa tối: ', dinner_group)\n",
    "    print('Bữa nhẹ: ', snack_group)\n",
    "    print('point: ', calculate_fitness(menu))\n",
    "    \n",
    "    for row in menu:\n",
    "        total_calo += int(row[3])\n",
    "    print('Total calories: ', total_calo)\n",
    "    \n",
    "    \n",
    "    "
   ]
  },
  {
   "cell_type": "code",
   "execution_count": 49,
   "id": "aba98f70",
   "metadata": {},
   "outputs": [],
   "source": [
    "def genetic_algorithm():\n",
    "    population = create_init_population()\n",
    "\n",
    "    for generation in range(num_generations):\n",
    "        fitness_scores = [calculate_fitness(menu) for menu in population]\n",
    "        selected_parents = select_parents(population, fitness_scores)\n",
    "\n",
    "        children = []\n",
    "        for _ in range(population_size):\n",
    "            parent1, parent2 = random.sample(selected_parents, 2)\n",
    "            child1, child2 = crossover(parent1, parent2)\n",
    "            child1 = mutate(child1)\n",
    "            child2 = mutate(child2)\n",
    "            children.extend([child1, child2])\n",
    "\n",
    "        population = children\n",
    "        \n",
    "    best_solution = max(population, key=calculate_fitness)\n",
    "    \n",
    "    return best_solution"
   ]
  },
  {
   "cell_type": "code",
   "execution_count": 52,
   "id": "891ea1bf",
   "metadata": {},
   "outputs": [
    {
     "name": "stdout",
     "output_type": "stream",
     "text": [
      "Bữa sáng:  [['Raw, 3 by 2V', '1 med.', 182.0, 100.0, 1.0, 1.0, 0.0, 2.0, 25.0, 'Fruits G-P'], ['Beans', '1 cup', 125.0, 25.0, 1.0, 0.0, 0.0, 0.8, 6.0, 'Vegetables A-E'], ['Fruit-flavored soda', '12 oz.', 346.0, 161.0, 0.0, 0.0, 0.0, 0.0, 42.0, 'Drinks,Alcohol, Beverages']]\n",
      "Bữa trưa:  [['Salmon', '3 oz.', 85.0, 120.0, 17.0, 5.0, 1.0, 0.0, 0.0, 'Fish, Seafood'], ['Tomato juice', '1 cup', 240.0, 50.0, 2.0, 0.0, 0.0, 0.6, 10.0, 'Vegetables R-Z'], ['Beans', '1 cup', 125.0, 25.0, 1.0, 0.0, 0.0, 0.8, 6.0, 'Vegetables A-E'], ['Wheat meal cereal unrefined', '3/4 cup', 30.0, 103.0, 4.0, 1.0, 0.0, 0.7, 25.0, 'Breads, cereals, fastfood,grains']]\n",
      "Bữa tối:  [['Bouillon', '1 cup', 240.0, 24.0, 5.0, 0.0, 0.0, 0.0, 0.0, 'Soups'], ['Salmon', '3 oz.', 85.0, 120.0, 17.0, 5.0, 1.0, 0.0, 0.0, 'Fish, Seafood'], ['with tomatoes and cheese', '1 cup', 250.0, 210.0, 6.0, 5.0, 3.0, 0.5, 36.0, 'Breads, cereals, fastfood,grains'], ['Chard steamed', '1 cup', 150.0, 30.0, 2.0, 0.0, 0.0, 1.4, 7.0, 'Vegetables A-E']]\n",
      "Bữa nhẹ:  [['Beans', '1 cup', 125.0, 25.0, 1.0, 0.0, 0.0, 0.8, 6.0, 'Vegetables A-E']]\n",
      "point:  21\n",
      "Total calories:  993\n"
     ]
    }
   ],
   "source": [
    "optimized_menu = genetic_algorithm()\n",
    "# print(\"Optimized Menu:\", optimized_menu)\n",
    "print_menu(optimized_menu)"
   ]
  },
  {
   "cell_type": "code",
   "execution_count": null,
   "id": "1a8c5ea4",
   "metadata": {},
   "outputs": [],
   "source": []
  },
  {
   "cell_type": "code",
   "execution_count": null,
   "id": "a3e5f6f2",
   "metadata": {},
   "outputs": [],
   "source": []
  },
  {
   "cell_type": "code",
   "execution_count": null,
   "id": "4671e367",
   "metadata": {},
   "outputs": [],
   "source": []
  },
  {
   "cell_type": "code",
   "execution_count": null,
   "id": "a31454c3",
   "metadata": {},
   "outputs": [],
   "source": []
  }
 ],
 "metadata": {
  "kernelspec": {
   "display_name": "Python 3 (ipykernel)",
   "language": "python",
   "name": "python3"
  },
  "language_info": {
   "codemirror_mode": {
    "name": "ipython",
    "version": 3
   },
   "file_extension": ".py",
   "mimetype": "text/x-python",
   "name": "python",
   "nbconvert_exporter": "python",
   "pygments_lexer": "ipython3",
   "version": "3.11.0"
  }
 },
 "nbformat": 4,
 "nbformat_minor": 5
}
