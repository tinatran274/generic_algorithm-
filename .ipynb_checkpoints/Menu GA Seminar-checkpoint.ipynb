{
 "cells": [
  {
   "cell_type": "code",
   "execution_count": 4,
   "id": "92b29f58",
   "metadata": {},
   "outputs": [],
   "source": [
    "import numpy as np\n",
    "import pandas as pd\n",
    "import random"
   ]
  },
  {
   "cell_type": "code",
   "execution_count": 5,
   "id": "9e1c528a",
   "metadata": {},
   "outputs": [],
   "source": [
    "df = pd.read_csv('nutrients_csvfile.csv', encoding='ISO-8859-1')"
   ]
  },
  {
   "cell_type": "code",
   "execution_count": 6,
   "id": "6cd471a1",
   "metadata": {},
   "outputs": [
    {
     "data": {
      "text/html": [
       "<div>\n",
       "<style scoped>\n",
       "    .dataframe tbody tr th:only-of-type {\n",
       "        vertical-align: middle;\n",
       "    }\n",
       "\n",
       "    .dataframe tbody tr th {\n",
       "        vertical-align: top;\n",
       "    }\n",
       "\n",
       "    .dataframe thead th {\n",
       "        text-align: right;\n",
       "    }\n",
       "</style>\n",
       "<table border=\"1\" class=\"dataframe\">\n",
       "  <thead>\n",
       "    <tr style=\"text-align: right;\">\n",
       "      <th></th>\n",
       "      <th>Food</th>\n",
       "      <th>Measure</th>\n",
       "      <th>Grams</th>\n",
       "      <th>Calories</th>\n",
       "      <th>Protein</th>\n",
       "      <th>Fat</th>\n",
       "      <th>Sat.Fat</th>\n",
       "      <th>Fiber</th>\n",
       "      <th>Carbs</th>\n",
       "      <th>Category</th>\n",
       "    </tr>\n",
       "  </thead>\n",
       "  <tbody>\n",
       "    <tr>\n",
       "      <th>0</th>\n",
       "      <td>Cows' milk</td>\n",
       "      <td>1 qt.</td>\n",
       "      <td>976.0</td>\n",
       "      <td>660.0</td>\n",
       "      <td>32.0</td>\n",
       "      <td>40.0</td>\n",
       "      <td>36.0</td>\n",
       "      <td>0.0</td>\n",
       "      <td>48.0</td>\n",
       "      <td>Dairy products</td>\n",
       "    </tr>\n",
       "    <tr>\n",
       "      <th>1</th>\n",
       "      <td>Milk skim</td>\n",
       "      <td>1 qt.</td>\n",
       "      <td>984.0</td>\n",
       "      <td>360.0</td>\n",
       "      <td>36.0</td>\n",
       "      <td>0.0</td>\n",
       "      <td>0.0</td>\n",
       "      <td>0.0</td>\n",
       "      <td>52.0</td>\n",
       "      <td>Dairy products</td>\n",
       "    </tr>\n",
       "    <tr>\n",
       "      <th>2</th>\n",
       "      <td>Buttermilk</td>\n",
       "      <td>1 cup</td>\n",
       "      <td>246.0</td>\n",
       "      <td>127.0</td>\n",
       "      <td>9.0</td>\n",
       "      <td>5.0</td>\n",
       "      <td>4.0</td>\n",
       "      <td>0.0</td>\n",
       "      <td>13.0</td>\n",
       "      <td>Dairy products</td>\n",
       "    </tr>\n",
       "    <tr>\n",
       "      <th>3</th>\n",
       "      <td>Evaporated, undiluted</td>\n",
       "      <td>1 cup</td>\n",
       "      <td>252.0</td>\n",
       "      <td>345.0</td>\n",
       "      <td>16.0</td>\n",
       "      <td>20.0</td>\n",
       "      <td>18.0</td>\n",
       "      <td>0.0</td>\n",
       "      <td>24.0</td>\n",
       "      <td>Dairy products</td>\n",
       "    </tr>\n",
       "    <tr>\n",
       "      <th>4</th>\n",
       "      <td>Fortified milk</td>\n",
       "      <td>6 cups</td>\n",
       "      <td>0.0</td>\n",
       "      <td>0.0</td>\n",
       "      <td>89.0</td>\n",
       "      <td>42.0</td>\n",
       "      <td>23.0</td>\n",
       "      <td>1.4</td>\n",
       "      <td>119.0</td>\n",
       "      <td>Dairy products</td>\n",
       "    </tr>\n",
       "  </tbody>\n",
       "</table>\n",
       "</div>"
      ],
      "text/plain": [
       "                    Food Measure  Grams Calories Protein   Fat Sat.Fat Fiber  \\\n",
       "0             Cows' milk   1 qt.  976.0    660.0    32.0  40.0    36.0   0.0   \n",
       "1              Milk skim   1 qt.  984.0    360.0    36.0   0.0     0.0   0.0   \n",
       "2             Buttermilk   1 cup  246.0    127.0     9.0   5.0     4.0   0.0   \n",
       "3  Evaporated, undiluted   1 cup  252.0    345.0    16.0  20.0    18.0   0.0   \n",
       "4         Fortified milk  6 cups    0.0      0.0    89.0  42.0    23.0   1.4   \n",
       "\n",
       "   Carbs        Category  \n",
       "0   48.0  Dairy products  \n",
       "1   52.0  Dairy products  \n",
       "2   13.0  Dairy products  \n",
       "3   24.0  Dairy products  \n",
       "4  119.0  Dairy products  "
      ]
     },
     "execution_count": 6,
     "metadata": {},
     "output_type": "execute_result"
    }
   ],
   "source": [
    "df.iloc[:, 2:9] = df.iloc[:, 2:9].apply(pd.to_numeric, errors='coerce').fillna(0)\n",
    "df.head()"
   ]
  },
  {
   "cell_type": "code",
   "execution_count": 7,
   "id": "fcf67b51",
   "metadata": {},
   "outputs": [],
   "source": [
    "for row in df:\n",
    "    data_list = df.values.tolist()   \n",
    "category_column = list({item[-1] for item in data_list})"
   ]
  },
  {
   "cell_type": "code",
   "execution_count": 8,
   "id": "f1e8ce6f",
   "metadata": {},
   "outputs": [],
   "source": [
    "def random_num(start, end):\n",
    "    range_val = (end - start) + 1\n",
    "    random_int = start + random.randint(0, range_val - 1)\n",
    "    return random_int"
   ]
  },
  {
   "cell_type": "code",
   "execution_count": 9,
   "id": "f50d9ea3",
   "metadata": {},
   "outputs": [],
   "source": [
    "num_group_morning = 3\n",
    "num_group_lunch = 4\n",
    "num_group_dinner = 4\n",
    "num_group_snack = 1\n",
    "total_group = 12 #num_genes\n",
    "\n",
    "G1 = ['Dairy products']\n",
    "G2 = ['Breads, cereals, fastfood,grains']\n",
    "G3 = ['Fish, Seafood','Meat, Poultry']\n",
    "G4 = ['Fats, Oils, Shortenings']\n",
    "G5 = ['Vegetables A-E', 'Vegetables R-Z', 'Vegetables F-P']\n",
    "G6 = ['Fruits A-F', 'Fruits G-P', 'Fruits R-Z']\n",
    "G7 = ['Seeds and Nuts']\n",
    "G8 = ['Soups']\n",
    "G9 = ['Desserts, sweets', 'Drinks,Alcohol, Beverages', 'Jams, Jellies']\n",
    "\n",
    "population_size = 25\n",
    "num_generations = 50\n",
    "mutation_rate = 0.2\n"
   ]
  },
  {
   "cell_type": "code",
   "execution_count": 10,
   "id": "b61738f3",
   "metadata": {},
   "outputs": [],
   "source": [
    "def calculate_fitness_morning(morning_menu):\n",
    "    point = 0\n",
    "    point -= len(morning_menu)-len(set(item[9] for item in morning_menu))\n",
    "    for item in morning_menu:\n",
    "        point += 1 if (item[9] in G1) else 0\n",
    "        point += 1 if (item[9] in G2) else 0\n",
    "        point += 1 if (item[9] in G6) else 0\n",
    "        point += 1 if (item[9] in G5) else 0\n",
    "        point += 1 if (item[9] in G8) else 0\n",
    "\n",
    "    return point"
   ]
  },
  {
   "cell_type": "code",
   "execution_count": 11,
   "id": "a9f547e6",
   "metadata": {},
   "outputs": [],
   "source": [
    "def calculate_fitness_lunch(lunch_menu):\n",
    "    point = 0\n",
    "    point -= len(lunch_menu)-len(set(item[9] for item in lunch_menu))\n",
    "    for item in lunch_menu:     \n",
    "        point += 1 if (item[9] in G2) else 0\n",
    "        point += 1 if (item[9] in G3) else 0\n",
    "        point += 1 if (item[9] in G5) else 0\n",
    "        point += 1 if (item[9] in G6) else 0\n",
    "        point += 1 if (item[9] in G8) else 0\n",
    "        \n",
    "    return point\n",
    "    "
   ]
  },
  {
   "cell_type": "code",
   "execution_count": 12,
   "id": "88891fde",
   "metadata": {},
   "outputs": [],
   "source": [
    "def calculate_fitness_dinner(dinner_menu):\n",
    "    point = 0\n",
    "    point -= len(dinner_menu)-len(set(item[9] for item in dinner_menu))\n",
    "    for item in dinner_menu:\n",
    "        point += 1 if (item[9] in G2) else 0\n",
    "        point += 1 if (item[9] in G3) else 0\n",
    "        point += 1 if (item[9] in G5) else 0\n",
    "        point += 1 if (item[9] in G6) else 0\n",
    "            \n",
    "    return point"
   ]
  },
  {
   "cell_type": "code",
   "execution_count": 13,
   "id": "bb5874ac",
   "metadata": {},
   "outputs": [],
   "source": [
    "def calculate_fitness_snack(snack_menu):\n",
    "    point = 0\n",
    "    point -= len(snack_menu)-len(set(item[9] for item in snack_menu))\n",
    "    for item in snack_menu:\n",
    "        point += 1 if (item[9] in G1) else 0\n",
    "        point += 1 if (item[9] in G6) else 0\n",
    "        point += 1 if (item[9] in G7) else 0\n",
    "        point += 1 if (item[9] in G9) else 0\n",
    "            \n",
    "    return point"
   ]
  },
  {
   "cell_type": "code",
   "execution_count": 34,
   "id": "eb733445",
   "metadata": {},
   "outputs": [],
   "source": [
    "def calculate_fitness_nutrient(menu):\n",
    "    point = 0\n",
    "    weight = 50\n",
    "    tdee = 1700\n",
    "    #constraint nutrient\n",
    "    protein_a_day = weight * 1.2 \n",
    "    fat_a_day = tdee * (25/100) / 9\n",
    "    sal_fat_a_day = tdee * (7/100) / 9\n",
    "    fiber_a_day = weight * 38\n",
    "    carbs_a_day = tdee * (35/100) / 4\n",
    "    \n",
    "    total_protein = sum(float(row[4]) for row in menu)\n",
    "    total_fat = sum(float(row[5]) for row in menu)\n",
    "    total_sal_fat = sum(float(row[6]) for row in menu)\n",
    "    total_fiber = sum(float(row[7]) for row in menu)\n",
    "    total_carbs = sum(float(row[8]) for row in menu)\n",
    "\n",
    "    point += 1 if (abs(total_protein - protein_a_day) < 30) else -1\n",
    "    point += 1 if (total_fat < fat_a_day) else -1\n",
    "    point += 1 if (total_sal_fat < sal_fat_a_day) else -1\n",
    "    point += 1 if (total_carbs < carbs_a_day) else -1\n",
    "    \n",
    "    return point "
   ]
  },
  {
   "cell_type": "code",
   "execution_count": 35,
   "id": "18778780",
   "metadata": {},
   "outputs": [],
   "source": [
    "def mutated_genes():\n",
    "    length_data = len(data_list); \n",
    "    random_index = random_num(0, length_data-1); \n",
    "    return data_list[random_index]; \n"
   ]
  },
  {
   "cell_type": "code",
   "execution_count": 36,
   "id": "af67254d",
   "metadata": {},
   "outputs": [],
   "source": [
    "def calculate_fitness(menu):\n",
    "    point = 0 \n",
    "    morning_group = []\n",
    "    lunch_group = []\n",
    "    dinner_group = []\n",
    "    snack_group = []\n",
    "\n",
    "    for index, item in enumerate(menu):\n",
    "        if index < num_group_morning:\n",
    "            morning_group.append(item)\n",
    "        elif index < num_group_morning + num_group_lunch:\n",
    "            lunch_group.append(item)\n",
    "        elif index < num_group_morning + num_group_lunch + num_group_dinner:\n",
    "            dinner_group.append(item)\n",
    "        else:\n",
    "            snack_group.append(item)\n",
    "    \n",
    "    point += calculate_fitness_morning(morning_group)\n",
    "    point += calculate_fitness_lunch(lunch_group)\n",
    "    point += calculate_fitness_dinner(dinner_group)\n",
    "    point += calculate_fitness_snack(snack_group)\n",
    "    point += calculate_fitness_nutrient(menu)\n",
    "    \n",
    "    return point"
   ]
  },
  {
   "cell_type": "code",
   "execution_count": 37,
   "id": "ace1ce4a",
   "metadata": {},
   "outputs": [],
   "source": [
    "def create_menu():\n",
    "    menu_list = []\n",
    "    for i in range(total_group):\n",
    "        menu_list.append(mutated_genes())\n",
    "    return menu_list\n"
   ]
  },
  {
   "cell_type": "code",
   "execution_count": 38,
   "id": "923c72c6",
   "metadata": {},
   "outputs": [],
   "source": [
    "#test\n",
    "total_protein2 = 0\n",
    "menu = create_menu()\n"
   ]
  },
  {
   "cell_type": "code",
   "execution_count": 39,
   "id": "e5ec235d",
   "metadata": {},
   "outputs": [],
   "source": [
    "def create_init_population():\n",
    "    return [create_menu() for _ in range(population_size)]"
   ]
  },
  {
   "cell_type": "code",
   "execution_count": 171,
   "id": "b32a7e30",
   "metadata": {},
   "outputs": [],
   "source": [
    "def random_selection(population, fitness_scores):\n",
    "\n",
    "    selected_parents = []\n",
    "    \n",
    "    sorted_indices = np.argsort(fitness_scores)[::-1].tolist()\n",
    "    selected_population = [population[i] for i in sorted_indices[:population_size // 2]]\n",
    "    fitness_scores2 = [calculate_fitness(menu) for menu in selected_population]\n",
    "    \n",
    "    return selected_population"
   ]
  },
  {
   "cell_type": "code",
   "execution_count": 172,
   "id": "7d7682e1",
   "metadata": {},
   "outputs": [
    {
     "name": "stdout",
     "output_type": "stream",
     "text": [
      "[5, 4, 4, 5, 6, 8, 2, 6, 4, 7, 5, 8, 6, 6]\n"
     ]
    }
   ],
   "source": [
    "a = create_init_population()\n",
    "def roulette_wheel_selection(population, fitness_values):\n",
    "    total_fitness = sum(fitness_values)\n",
    "    normalized_fitness = [fit / total_fitness for fit in fitness_values]\n",
    "    wheel = [sum(normalized_fitness[:i+1]) for i in range(len(normalized_fitness))]\n",
    "\n",
    "    selected_parents = []\n",
    "    \n",
    "    for i in range(population_size):\n",
    "        selection_point = random.uniform(0, 1)\n",
    "        selected_index = None\n",
    "        for i, value in enumerate(wheel):\n",
    "            if selection_point <= value:\n",
    "                selected_index = i\n",
    "                if population[selected_index] not in selected_parents:\n",
    "                    selected_parents.append(population[selected_index])\n",
    "                break\n",
    "            \n",
    "    return selected_parents\n",
    "\n",
    "fitness_scores = [calculate_fitness(menu) for menu in a]\n",
    "selected_individual = roulette_wheel_selection(a, fitness_scores)\n",
    "selected_fitness_scores = [calculate_fitness(menu) for menu in selected_individual]\n",
    "print(selected_fitness_scores)\n",
    "# print(\"\\nSelected:\", selected_individual)"
   ]
  },
  {
   "cell_type": "code",
   "execution_count": 173,
   "id": "5cbd8b75",
   "metadata": {},
   "outputs": [
    {
     "name": "stdout",
     "output_type": "stream",
     "text": [
      "[2, 4, 5, 5, 3, 4, 5, 8, 5, 2, 4, 5, 6, 6, 1, 3, 8, 5, 6, 8, 2, 2, 7, 4, 4]\n",
      "[6, 8, 4, 4, 7, 5, 8, 8, 5, 6, 6, 2, 4, 5, 5, 5]\n"
     ]
    }
   ],
   "source": [
    "def rank_selection(population, fitness_scores):\n",
    "    ranked_population = sorted(zip(population, fitness_scores), key=lambda x: x[1])                 \n",
    "    ranks = [i+1 for i in range(len(ranked_population))]\n",
    "    selected_population = []\n",
    "    for _ in range(population_size):\n",
    "        selected_individual = random.choices(ranked_population, ranks)[0]\n",
    "        if selected_individual[0] not in selected_population:\n",
    "            selected_population.append(selected_individual[0])\n",
    "    \n",
    "    return selected_population\n",
    "\n",
    "a = create_init_population()\n",
    "fitness_scores = [calculate_fitness(menu) for menu in a]\n",
    "print(fitness_scores)\n",
    "selected_individual = rank_selection(a, fitness_scores)\n",
    "selected_fitness_scores = [calculate_fitness(menu) for menu in selected_individual]\n",
    "print(selected_fitness_scores)"
   ]
  },
  {
   "cell_type": "code",
   "execution_count": 45,
   "id": "5d5d1761",
   "metadata": {},
   "outputs": [],
   "source": [
    "def one_point_crossover(parent1, parent2):\n",
    "    crossover_point = random.randint(1, total_group - 1) if random.random() < mutation_rate else 0\n",
    "    child1 = parent1[:crossover_point] + parent2[crossover_point:]\n",
    "    child2 = parent2[:crossover_point] + parent1[crossover_point:]\n",
    "    \n",
    "    return child1, child2"
   ]
  },
  {
   "cell_type": "code",
   "execution_count": 46,
   "id": "a41896de",
   "metadata": {},
   "outputs": [],
   "source": [
    "def two_point_crossover(parent1, parent2):\n",
    "    crossover_points = sorted(random.sample(range(1, total_group - 1), 2)) if random.random() < mutation_rate else [0,0]\n",
    "    point1, point2 = crossover_points\n",
    "    child1 = parent1[:point1] + parent2[point1:point2] + parent1[point2:]\n",
    "    child2 = parent2[:point1] + parent1[point1:point2] + parent2[point2:]\n",
    "\n",
    "    return child1, child2"
   ]
  },
  {
   "cell_type": "code",
   "execution_count": 47,
   "id": "a018a11c",
   "metadata": {},
   "outputs": [],
   "source": [
    "a = create_menu()\n",
    "b = create_menu()\n",
    "def uniform_crossover(parent1, parent2):\n",
    "    child1 = [gene1 if random.random() < mutation_rate else gene2 for gene1, gene2 in zip(parent1, parent2)]\n",
    "    child2 = [gene2 if random.random() < mutation_rate else gene1 for gene1, gene2 in zip(parent1, parent2)]\n",
    "    \n",
    "    return child1, child2\n",
    "\n",
    "child1, child2 = uniform_crossover(a,b)\n",
    "# print('C1: ', child1)\n",
    "# print('\\nC2: ', child2)"
   ]
  },
  {
   "cell_type": "code",
   "execution_count": 393,
   "id": "cb95630b",
   "metadata": {},
   "outputs": [],
   "source": [
    "def pmx_crossover(parent1, parent2):\n",
    "    crossover_points = sorted(random.sample(range(total_group), 2))\n",
    "    point1, point2 = crossover_points\n",
    "    \n",
    "    range_point1 = [parent1[i][0] for i in range(point1, point2 + 1)]\n",
    "    range_point2 = [parent2[i][0] for i in range(point1, point2 + 1)]\n",
    "    \n",
    "    child1 = [None] * total_group\n",
    "    child2 = [None] * total_group\n",
    "    \n",
    "    mapping1 = {item[0]: index for index, item in enumerate(parent1)}\n",
    "    mapping2 = {item[0]: index for index, item in enumerate(parent2)}\n",
    "    \n",
    "    for i in range(total_group):\n",
    "        if i < point1 or i > point2:\n",
    "            if parent1[i][0] in range_point2:\n",
    "                value = parent1[i]\n",
    "                while value[0] in mapping2:\n",
    "                    index_in_mapping = mapping2[value[0]]\n",
    "                    value = parent1[index_in_mapping]\n",
    "                child1[i] = value\n",
    "            else:\n",
    "                child1[i] = parent1[i]\n",
    "                \n",
    "            if parent2[i][0] in range_point1:\n",
    "                value = parent2[i]\n",
    "                while value[0] in mapping1:\n",
    "                    index_in_mapping = mapping1[value[0]]\n",
    "                    value = parent2[index_in_mapping]\n",
    "                child2[i] = value\n",
    "            else:\n",
    "                child2[i] = parent1[i]\n",
    "                \n",
    "        else:\n",
    "            child1[point1:point2+1] = parent2[point1:point2+1]\n",
    "            child2[point1:point2+1] = parent1[point1:point2+1]\n",
    "\n",
    "    return child1, child2\n",
    "\n",
    "# a = create_menu()\n",
    "# b = create_menu()\n",
    "# p1 = [a[i][0] for i in range(0, total_group)]\n",
    "# p2 = [b[i][0] for i in range(0, total_group)]\n",
    "# print('P1:',p1,'\\nP2',p2)\n",
    "# child1, child2 = pmx_crossover(a, b)\n",
    "# c1 = [child1[i][0] for i in range(0, total_group)]\n",
    "# c2 = [child1[i][0] for i in range(0, total_group)]\n",
    "# print('\\nC1:',c1,'\\nC2',c2)"
   ]
  },
  {
   "cell_type": "code",
   "execution_count": 392,
   "id": "a0245333",
   "metadata": {},
   "outputs": [],
   "source": [
    "def mutate(menu):\n",
    "    for i in range(total_group):\n",
    "        if random.uniform(0, 1) < mutation_rate:\n",
    "            menu[i] = random.choice(data_list)\n",
    "    return menu\n"
   ]
  },
  {
   "cell_type": "code",
   "execution_count": 406,
   "id": "ae877522",
   "metadata": {},
   "outputs": [
    {
     "name": "stdout",
     "output_type": "stream",
     "text": [
      "['Steamed cabbage', 'Peanut butter, natural', 'Raw, 2\" diameter', 'Macaroni', 'Cauliflower', 'Tomato juice', 'OlivesRipe', 'Pancakes 4\" diam.', 'Pork roast', 'Beet greens', 'Cream or half-and-half', 'Roasted chicken']\n",
      "['Steamed cabbage', 'Peanut butter, natural', 'Raw, 2\" diameter', 'Macaroni', 'Pancakes 4\" diam.', 'Pork roast', 'Beet greens', 'Cauliflower', 'Tomato juice', 'OlivesRipe', 'Cream or half-and-half', 'Roasted chicken']\n"
     ]
    }
   ],
   "source": [
    "b = create_menu()\n",
    "def displacement_mutation(menu):\n",
    "\n",
    "    segment_size = random.randint(1, total_group // 2)\n",
    "    start_position = random.randint(0, total_group - segment_size)\n",
    "    segment = menu[start_position:start_position + segment_size]\n",
    "\n",
    "    del menu[start_position:start_position + segment_size]\n",
    "    insert_position = random.randint(0, total_group - segment_size)\n",
    "    \n",
    "    result_list = menu[:insert_position] + segment + menu[insert_position:]\n",
    "    return result_list\n",
    "\n",
    "print([b[i][0] for i in range(0, total_group)])\n",
    "rs = displacement_mutation(b)\n",
    "print([rs[i][0] for i in range(0, total_group)])"
   ]
  },
  {
   "cell_type": "code",
   "execution_count": 51,
   "id": "298fb633",
   "metadata": {},
   "outputs": [],
   "source": [
    "b = create_menu()\n",
    "def simple_inversion_mutation(menu):\n",
    "\n",
    "    position1, position2 = sorted(random.sample(range(total_group), 2))\n",
    "    inversion_segment = menu[position1:position2+1]\n",
    "    inverted_segment = inversion_segment[::-1]\n",
    "    del menu[position1:position2+1]\n",
    "\n",
    "    insert_position = random.randint(0, total_group - len(inverted_segment))\n",
    "    result_list = menu[:insert_position] + inverted_segment + menu[insert_position:]\n",
    "\n",
    "    return result_list\n",
    "\n",
    "# print(b)\n",
    "# print(simple_inversion_mutation(b))"
   ]
  },
  {
   "cell_type": "code",
   "execution_count": 52,
   "id": "9a4deaba",
   "metadata": {},
   "outputs": [],
   "source": [
    "b = create_menu()\n",
    "def scramble_mutation(menu):\n",
    "    \n",
    "    subset_size = random.randint(1, total_group)\n",
    "    subset_indices = random.sample(range(total_group), subset_size)\n",
    "\n",
    "    shuffled_subset = random.sample(subset_indices, subset_size)\n",
    "\n",
    "    for i, index in enumerate(subset_indices):\n",
    "        menu[index] = menu[shuffled_subset[i]]\n",
    "\n",
    "    return menu\n"
   ]
  },
  {
   "cell_type": "code",
   "execution_count": 53,
   "id": "a0d10885",
   "metadata": {},
   "outputs": [],
   "source": [
    "def print_menu(menu):\n",
    "    total_calo = 0\n",
    "    morning_group = []\n",
    "    lunch_group = []\n",
    "    dinner_group = []\n",
    "    snack_group = []\n",
    "\n",
    "    for index, item in enumerate(menu):\n",
    "        if index < num_group_morning:\n",
    "            morning_group.append(item)\n",
    "        elif index < num_group_morning + num_group_lunch:\n",
    "            lunch_group.append(item)\n",
    "        elif index < num_group_morning + num_group_lunch + num_group_dinner:\n",
    "            dinner_group.append(item)\n",
    "        else:\n",
    "            snack_group.append(item)\n",
    "            \n",
    "    print('Bữa sáng: ', morning_group)\n",
    "    print('Bữa trưa: ', lunch_group)\n",
    "    print('Bữa tối: ', dinner_group)\n",
    "    print('Bữa nhẹ: ', snack_group)\n",
    "    print('point: ', calculate_fitness(menu))\n",
    "    \n",
    "    for row in menu:\n",
    "        total_calo += int(row[3])\n",
    "    print('Total calories: ', total_calo)"
   ]
  },
  {
   "cell_type": "code",
   "execution_count": 194,
   "id": "aba98f70",
   "metadata": {},
   "outputs": [],
   "source": [
    "def genetic_algorithm():\n",
    "    population = create_init_population()\n",
    "    best_menu = population[0]\n",
    "    best_solution = calculate_fitness(best_menu)\n",
    "    count_loop = 0\n",
    "#     for generation in range(num_generations):\n",
    "    while (best_solution < 16):\n",
    "        fitness_scores = [calculate_fitness(menu) for menu in population]\n",
    "        selected_parents = roulette_wheel_selection(population, fitness_scores)\n",
    "\n",
    "        children = []\n",
    "        for _ in range(population_size):\n",
    "            parent1, parent2 = random.sample(selected_parents, 2)\n",
    "            child1, child2 = two_point_crossover(parent1, parent2)\n",
    "            child1 = mutate(child1)\n",
    "            child2 = mutate(child2)\n",
    "            children.extend([child1, child2])\n",
    "\n",
    "        population = children\n",
    "        \n",
    "        best_menu = max(population, key=calculate_fitness)\n",
    "        best_solution = calculate_fitness(best_menu)\n",
    "        count_loop += 1\n",
    "        \n",
    "#     best_solution = max(population, key=calculate_fitness)\n",
    "    print('Count loop:',count_loop)\n",
    "    return best_menu"
   ]
  },
  {
   "cell_type": "code",
   "execution_count": 195,
   "id": "891ea1bf",
   "metadata": {},
   "outputs": [
    {
     "name": "stdout",
     "output_type": "stream",
     "text": [
      "Count loop: 1577\n",
      "Bữa sáng:  [['Peppers canned', '1 pod', 38.0, 10.0, 0.0, 0.0, 0.0, 0.0, 2.0, 'Vegetables R-Z'], ['Apple vinegar', '1/3 cup', 100.0, 14.0, 0.0, 0.0, 0.0, 0.0, 3.0, 'Fruits A-F'], ['Beet greens', '1 cup', 100.0, 27.0, 2.0, 0.0, 0.0, 1.4, 6.0, 'Vegetables A-E']]\n",
      "Bữa trưa:  [['Veal', '3 oz.', 85.0, 185.0, 23.0, 9.0, 8.0, 0.0, 0.0, 'Meat, Poultry'], ['Raw', '1 cup', 149.0, 54.0, 0.0, 0.0, 0.0, 1.9, 12.0, 'Fruits R-Z'], ['Eggplant', '1 cup', 180.0, 30.0, 2.0, 0.0, 0.0, 1.0, 9.0, 'Vegetables A-E'], ['Cornflakes', '1 cup', 25.0, 110.0, 2.0, 0.0, 0.0, 0.1, 25.0, 'Breads, cereals, fastfood,grains']]\n",
      "Bữa tối:  [['Winter, mashed', '1 cup', 200.0, 95.0, 4.0, 0.0, 0.0, 2.6, 23.0, 'Vegetables R-Z'], ['Orange juice', '8 oz. or', 250.0, 112.0, 2.0, 0.0, 0.0, 0.2, 25.0, 'Fruits G-P'], ['Mackerel', '3 oz.', 85.0, 155.0, 18.0, 9.0, 0.0, 0.0, 0.0, 'Fish, Seafood'], ['Lambs quarters, steamed', '1 cup', 150.0, 48.0, 5.0, 0.0, 0.0, 3.2, 7.0, 'Vegetables F-P']]\n",
      "Bữa nhẹ:  [['Fruit cake', '1 slice', 30.0, 105.0, 2.0, 4.0, 3.0, 0.2, 17.0, 'Desserts, sweets']]\n",
      "point:  16\n",
      "Total calories:  945\n"
     ]
    }
   ],
   "source": [
    "optimized_menu = genetic_algorithm()\n",
    "# print(\"Optimized Menu:\", optimized_menu)\n",
    "print_menu(optimized_menu)"
   ]
  },
  {
   "cell_type": "code",
   "execution_count": null,
   "id": "1a8c5ea4",
   "metadata": {},
   "outputs": [],
   "source": []
  },
  {
   "cell_type": "code",
   "execution_count": null,
   "id": "a3e5f6f2",
   "metadata": {},
   "outputs": [],
   "source": []
  },
  {
   "cell_type": "code",
   "execution_count": null,
   "id": "4671e367",
   "metadata": {},
   "outputs": [],
   "source": []
  },
  {
   "cell_type": "code",
   "execution_count": null,
   "id": "a31454c3",
   "metadata": {},
   "outputs": [],
   "source": []
  }
 ],
 "metadata": {
  "kernelspec": {
   "display_name": "Python 3 (ipykernel)",
   "language": "python",
   "name": "python3"
  },
  "language_info": {
   "codemirror_mode": {
    "name": "ipython",
    "version": 3
   },
   "file_extension": ".py",
   "mimetype": "text/x-python",
   "name": "python",
   "nbconvert_exporter": "python",
   "pygments_lexer": "ipython3",
   "version": "3.11.0"
  }
 },
 "nbformat": 4,
 "nbformat_minor": 5
}
