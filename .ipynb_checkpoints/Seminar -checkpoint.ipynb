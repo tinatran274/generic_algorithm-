{
 "cells": [
  {
   "cell_type": "code",
   "execution_count": 612,
   "id": "9900a3ab",
   "metadata": {},
   "outputs": [],
   "source": [
    "import numpy as np\n",
    "import pandas as pd\n",
    "import random"
   ]
  },
  {
   "cell_type": "code",
   "execution_count": 742,
   "id": "74fca78c",
   "metadata": {},
   "outputs": [],
   "source": [
    "POPULATION_SIZE = 50\n",
    "NUM_GENERATIONS = 25\n",
    "GENES = '''abcdefghijklmnopqrstuvwxyzABCDEFGHIJKLMNOPQRSTUVWXYZ '''\n",
    "TARGET = 'Hello World'\n",
    "CHROMOSOME_LEN = len(TARGET)\n",
    "MUTATION_RATE = 0.1"
   ]
  },
  {
   "cell_type": "code",
   "execution_count": 743,
   "id": "adf967a5",
   "metadata": {},
   "outputs": [],
   "source": [
    "def random_num(start, end):\n",
    "    range_val = (end - start) + 1\n",
    "    random_int = start + random.randint(0, range_val - 1)\n",
    "    return random_int"
   ]
  },
  {
   "cell_type": "code",
   "execution_count": 744,
   "id": "0938edb9",
   "metadata": {},
   "outputs": [],
   "source": [
    "def mutated_genes():\n",
    "    length_data = len(GENES)\n",
    "    random_index = random_num(0, length_data-1)\n",
    "    return GENES[random_index]"
   ]
  },
  {
   "cell_type": "code",
   "execution_count": 745,
   "id": "b70dc0d3",
   "metadata": {},
   "outputs": [],
   "source": [
    "def create_chromosome():\n",
    "    return ''.join(mutated_genes() for _ in range(LEN_TARGET))"
   ]
  },
  {
   "cell_type": "code",
   "execution_count": 746,
   "id": "a653aa4a",
   "metadata": {},
   "outputs": [],
   "source": [
    "def cal_fitness(chromosome): \n",
    "    fitness = 0\n",
    "    for gene_char, target_char in zip(chromosome, TARGET):\n",
    "        if gene_char == target_char:\n",
    "            fitness += 1\n",
    "    return fitness "
   ]
  },
  {
   "cell_type": "code",
   "execution_count": 747,
   "id": "c0c14281",
   "metadata": {},
   "outputs": [],
   "source": [
    "def create_init_population():\n",
    "    return [create_chromosome() for _ in range(POPULATION_SIZE)]"
   ]
  },
  {
   "cell_type": "code",
   "execution_count": 748,
   "id": "7616c940",
   "metadata": {},
   "outputs": [],
   "source": [
    "def select_parents(population, fitness_scores):\n",
    "    selected_parents = []\n",
    "    sorted_indices = np.argsort(fitness_scores)[::-1].tolist()\n",
    "    selected_population = [population[i] for i in sorted_indices[:POPULATION_SIZE // 2]]\n",
    "    \n",
    "    return selected_population"
   ]
  },
  {
   "cell_type": "code",
   "execution_count": 749,
   "id": "7d92827a",
   "metadata": {},
   "outputs": [],
   "source": [
    "def roulette_wheel_selection(population, fitness_values):\n",
    "    total_fitness = sum(fitness_values)\n",
    "    cumulative_fitness_values = []\n",
    "    current_fitness = 0\n",
    "    for fitness_value in fitness_values:\n",
    "        cumulative_fitness_values.append(current_fitness + fitness_value)\n",
    "        current_fitness += fitness_value\n",
    "\n",
    "    parent1 = None\n",
    "    parent2 = None\n",
    "    while parent1 is None or parent2 is None:\n",
    "        random_number = random.random() * total_fitness\n",
    "        for i in range(len(cumulative_fitness_values)):\n",
    "            if cumulative_fitness_values[i] >= random_number:\n",
    "                parent1 = population[i]\n",
    "                break\n",
    "\n",
    "        random_number = random.random() * total_fitness\n",
    "        for i in range(len(cumulative_fitness_values)):\n",
    "            if cumulative_fitness_values[i] >= random_number:\n",
    "                parent2 = population[i]\n",
    "                break\n",
    "                \n",
    "    return parent1, parent2"
   ]
  },
  {
   "cell_type": "code",
   "execution_count": 750,
   "id": "f51e13f0",
   "metadata": {},
   "outputs": [],
   "source": [
    "def roulette_wheel_selection1(population, fitness_values):\n",
    "    total_fitness = sum(fitness_values)\n",
    "    relative_fitness = [fitness / total_fitness for fitness in fitness_values]\n",
    "    cdf = [sum(relative_fitness[:i+1]) for i in range(len(relative_fitness))]\n",
    "\n",
    "    selected_individuals = []\n",
    "    for _ in range(POPULATION_SIZE // 2):\n",
    "        spin_point = random.uniform(0, 1)\n",
    "        selected_index = next(i for i, value in enumerate(cdf) if value >= spin_point)\n",
    "        selected_individuals.append(population[selected_index])\n",
    "    \n",
    "    return list(set(selected_individuals))"
   ]
  },
  {
   "cell_type": "code",
   "execution_count": null,
   "id": "05d889f7",
   "metadata": {},
   "outputs": [],
   "source": [
    "a = create_init_population()\n",
    "\n",
    "def roulette_wheel_selection2(population, fitness_values):\n",
    "    total_fitness = sum(fitness_values)\n",
    "    cumulative_fitness_values = []\n",
    "    current_fitness = 0\n",
    "    for fitness_value in fitness_values:\n",
    "        cumulative_fitness_values.append(current_fitness + fitness_value)\n",
    "        current_fitness += fitness_value\n",
    "\n",
    "    parent1 = None\n",
    "    parent2 = None\n",
    "    while parent1 is None or parent2 is None:\n",
    "        random_number = random.random() * total_fitness\n",
    "        for i in range(len(cumulative_fitness_values)):\n",
    "            if cumulative_fitness_values[i] >= random_number:\n",
    "                parent1 = population[i]\n",
    "                break\n",
    "\n",
    "        random_number = random.random() * total_fitness\n",
    "        for i in range(len(cumulative_fitness_values)):\n",
    "            if cumulative_fitness_values[i] >= random_number:\n",
    "                parent2 = population[i]\n",
    "                break\n",
    "                \n",
    "    return parent1, parent2\n",
    "\n",
    "fitness_scores = [cal_fitness(chromosome) for chromosome in a]\n",
    "roulette_wheel_selection2(a,fitness_scores)"
   ]
  },
  {
   "cell_type": "code",
   "execution_count": 751,
   "id": "a92b306e",
   "metadata": {},
   "outputs": [],
   "source": [
    "def one_point_crossover(parent1, parent2):\n",
    "    crossover_point = random.randint(1, CHROMOSOME_LEN - 1)\n",
    "    child1 = parent1[:crossover_point] + parent2[crossover_point:]\n",
    "    child2 = parent2[:crossover_point] + parent1[crossover_point:]\n",
    "    \n",
    "    return child1, child2"
   ]
  },
  {
   "cell_type": "code",
   "execution_count": 752,
   "id": "d4e73260",
   "metadata": {},
   "outputs": [],
   "source": [
    "def two_point_crossover(parent1, parent2):\n",
    "    crossover_points = sorted(random.sample(range(1, CHROMOSOME_LEN - 1), 2))\n",
    "    point1, point2 = crossover_points\n",
    "\n",
    "    child1 = parent1[:point1] + parent2[point1:point2] + parent1[point2:]\n",
    "    child2 = parent2[:point1] + parent1[point1:point2] + parent2[point2:]\n",
    "\n",
    "    return child1, child2"
   ]
  },
  {
   "cell_type": "code",
   "execution_count": 753,
   "id": "5d505701",
   "metadata": {},
   "outputs": [
    {
     "data": {
      "text/plain": [
       "('ZZHCULbrGodqcVzGbrGodqcVzG', 'XnpXnpAuIGhXkQnMDzAzGiS')"
      ]
     },
     "execution_count": 753,
     "metadata": {},
     "output_type": "execute_result"
    }
   ],
   "source": [
    "a = create_chromosome()\n",
    "b = create_chromosome()\n",
    "def k_point_crossover(parent1, parent2):\n",
    "    K_CROSSOVER_POINTS = 4\n",
    "    crossover_points = sorted(random.sample(range(1, CHROMOSOME_LEN), K_CROSSOVER_POINTS))\n",
    "    \n",
    "    children = []\n",
    "    current_parent = parent1\n",
    "\n",
    "    for point in crossover_points:\n",
    "        children.append(current_parent[:point])\n",
    "        current_parent = parent2 if current_parent is parent1 else parent1\n",
    "\n",
    "    children.append(current_parent[point:])\n",
    "    \n",
    "    # Ensure child lengths are the same as parent lengths\n",
    "    child1 = \"\".join(children[::2]) + parent1[crossover_points[-1]:]\n",
    "    child2 = \"\".join(children[1::2]) + parent2[crossover_points[-1]:]\n",
    "    \n",
    "    return child1, child2\n",
    "\n",
    "crossover_k_point(a,b)"
   ]
  },
  {
   "cell_type": "code",
   "execution_count": 754,
   "id": "95b96676",
   "metadata": {},
   "outputs": [
    {
     "data": {
      "text/plain": [
       "('XSzKPgxxkHoUxYKRlEzr', 'k ddMLNxRWoFrxKmVLiO')"
      ]
     },
     "execution_count": 754,
     "metadata": {},
     "output_type": "execute_result"
    }
   ],
   "source": [
    "a = create_chromosome()\n",
    "b = create_chromosome()\n",
    "def uniform_crossover(parent1, parent2):\n",
    "    child1 = [gene1 if random.random() < MUTATION_RATE else gene2 for gene1, gene2 in zip(parent1, parent2)]\n",
    "    child2 = [gene2 if random.random() < MUTATION_RATE else gene1 for gene1, gene2 in zip(parent1, parent2)]\n",
    "    \n",
    "    return \"\".join(child1), \"\".join(child2)\n",
    "\n",
    "crossover_uniform(a,b)"
   ]
  },
  {
   "cell_type": "code",
   "execution_count": 781,
   "id": "d6fce11f",
   "metadata": {},
   "outputs": [
    {
     "name": "stdout",
     "output_type": "stream",
     "text": [
      "BXVSbnAvDpBsidwKMZQs XZQPykCAknpCwfRdqojg\n",
      "BZQPykCAkpBsidwKMZQs BXVSbnAvDnpCwfRdqojg\n"
     ]
    }
   ],
   "source": [
    "a = create_chromosome()\n",
    "b = create_chromosome()\n",
    "\n",
    "def pmx_crossover(parent1, parent2):\n",
    "    crossover_points = sorted(random.sample(range(CHROMOSOME_LEN), 2))\n",
    "    point1, point2 = crossover_points\n",
    "    child1 = list(parent1)\n",
    "    child2 = list(parent2)\n",
    "\n",
    "    mapping1 = {value: index for index, value in enumerate(parent1)}\n",
    "    mapping2 = {value: index for index, value in enumerate(parent2)}\n",
    "\n",
    "    for i in range(CHROMOSOME_LEN):\n",
    "        if i < point1 or i > point2:\n",
    "            if parent2[i] not in child1:\n",
    "                value = parent2[i]\n",
    "                while value in mapping1:\n",
    "                    index_in_mapping = mapping1[value]\n",
    "                    value = parent2[index_in_mapping]\n",
    "                child1[i] = value\n",
    "                \n",
    "            if parent1[i] not in child2:\n",
    "                value = parent1[i]\n",
    "                while value in mapping2:\n",
    "                    index_in_mapping = mapping2[value]\n",
    "                    value = parent1[index_in_mapping]\n",
    "                child2[i] = value\n",
    "                \n",
    "    positions = list(range(point1, point2+1))   \n",
    "    for i, position in enumerate(positions):\n",
    "        child1[position] = parent2[position]\n",
    "        child2[position] = parent1[position]\n",
    "\n",
    "    return ''.join(child1), ''.join(child2)\n",
    "\n",
    "child1, child2 = pmx_crossover(a, b)\n",
    "print(a, b)\n",
    "print(child1, child2)"
   ]
  },
  {
   "cell_type": "code",
   "execution_count": 756,
   "id": "25947ba9",
   "metadata": {},
   "outputs": [],
   "source": [
    "def mutate(chromosome):\n",
    "    chromosome_list = list(chromosome)\n",
    "    for i in range(CHROMOSOME_LEN):\n",
    "        if random.uniform(0, 1) < MUTATION_RATE:\n",
    "            chromosome_list[i] = mutated_genes()\n",
    "            \n",
    "    return ''.join(chromosome_list)"
   ]
  },
  {
   "cell_type": "code",
   "execution_count": 757,
   "id": "15e6eaf3",
   "metadata": {},
   "outputs": [
    {
     "name": "stdout",
     "output_type": "stream",
     "text": [
      "vyJjXwnnJUNsGMeqpZbh\n",
      "yJvjXwnnJUNsGMeqpZbh\n"
     ]
    }
   ],
   "source": [
    "b = create_chromosome()\n",
    "def displacement_mutation(chromosome):\n",
    "    chromosome_list = list(chromosome)\n",
    "\n",
    "    segment_size = random.randint(1, CHROMOSOME_LEN // 2)\n",
    "    start_position = random.randint(0, CHROMOSOME_LEN - segment_size)\n",
    "    segment = chromosome_list[start_position:start_position + segment_size]\n",
    "\n",
    "    del chromosome_list[start_position:start_position + segment_size]\n",
    "    insert_position = random.randint(0, CHROMOSOME_LEN - segment_size)\n",
    "    \n",
    "    result_list = chromosome_list[:insert_position] + segment + chromosome_list[insert_position:]\n",
    "    return ''.join(result_list)\n",
    "\n",
    "print(b)\n",
    "print(displacement_mutation(b))"
   ]
  },
  {
   "cell_type": "code",
   "execution_count": 758,
   "id": "a2aa806d",
   "metadata": {},
   "outputs": [
    {
     "name": "stdout",
     "output_type": "stream",
     "text": [
      "LqjIlWMSFTsYucWixlAg\n",
      "LqMWlIjSFTsYucWixlAg\n"
     ]
    }
   ],
   "source": [
    "b = create_chromosome()\n",
    "def simple_inversion_mutation(chromosome):\n",
    "\n",
    "    chromosome_list = list(chromosome)\n",
    "    position1, position2 = sorted(random.sample(range(CHROMOSOME_LEN), 2))\n",
    "    inversion_segment = chromosome_list[position1:position2+1]\n",
    "    inverted_segment = inversion_segment[::-1]\n",
    "    del chromosome_list[position1:position2+1]\n",
    "\n",
    "    insert_position = random.randint(0, CHROMOSOME_LEN - len(inverted_segment))\n",
    "    result_list = chromosome_list[:insert_position] + inverted_segment + chromosome_list[insert_position:]\n",
    "\n",
    "    return ''.join(result_list)\n",
    "\n",
    "print(b)\n",
    "print(simple_inversion_mutation(b))"
   ]
  },
  {
   "cell_type": "code",
   "execution_count": 759,
   "id": "b4b14428",
   "metadata": {},
   "outputs": [
    {
     "name": "stdout",
     "output_type": "stream",
     "text": [
      "aspECUJLSIeYtrHX VRI\n",
      "aLJSEUCspIeYtrHX VRI\n"
     ]
    }
   ],
   "source": [
    "b = create_chromosome()\n",
    "def scramble_mutation(chromosome):\n",
    "    \n",
    "    subset_size = random.randint(1, CHROMOSOME_LEN)\n",
    "    subset_indices = random.sample(range(CHROMOSOME_LEN), subset_size)\n",
    "\n",
    "    shuffled_subset = random.sample(subset_indices, subset_size)\n",
    "\n",
    "    mutated_chromosome = list(chromosome)\n",
    "    for i, index in enumerate(subset_indices):\n",
    "        mutated_chromosome[index] = chromosome[shuffled_subset[i]]\n",
    "\n",
    "    return ''.join(mutated_chromosome)\n",
    "\n",
    "print(b)\n",
    "print(scramble_mutation(b))"
   ]
  },
  {
   "cell_type": "code",
   "execution_count": 764,
   "id": "b1427623",
   "metadata": {},
   "outputs": [],
   "source": [
    "def genetic_algorithm():\n",
    "    population = create_init_population()\n",
    "    best_solution = population[0]\n",
    "\n",
    "    while (best_solution != TARGET):\n",
    "        fitness_scores = [cal_fitness(chromosome) for chromosome in population]\n",
    "        selected_parents = select_parents(population, fitness_scores)\n",
    "#         selected_parents = roulette_wheel_selection1(population, fitness_scores)\n",
    "\n",
    "        children = []\n",
    "        for _ in range(POPULATION_SIZE):\n",
    "            parent1, parent2 = random.sample(selected_parents, 2)\n",
    "            child1, child2 = PMX_crossover(parent1, parent2)\n",
    "            child1 = mutate(child1)\n",
    "            child2 = mutate(child2)\n",
    "            children.extend([child1, child2])\n",
    "\n",
    "        population = children\n",
    "        best_solution = max(population, key=cal_fitness)\n",
    "        print(best_solution)\n",
    "    \n",
    "    return best_solution"
   ]
  },
  {
   "cell_type": "code",
   "execution_count": 765,
   "id": "83eb3802",
   "metadata": {},
   "outputs": [
    {
     "name": "stdout",
     "output_type": "stream",
     "text": [
      "COlgQ ADrdm\n",
      "feKgQ ADrlr\n",
      "UEVBo ADrlu\n",
      "feicoNWKrWd\n",
      "felgJ WKrWd\n",
      "EelEU xorld\n",
      "fei oFWorld\n",
      "felgo World\n",
      "selgo World\n",
      "Lel o World\n",
      "Del o World\n",
      "Del o World\n",
      "Helgo World\n",
      "Helgo World\n",
      "HelZo World\n",
      "HelFo World\n",
      "Helgo World\n",
      "HelRo World\n",
      "Hello World\n",
      "Optimized chromosome: Hello World\n"
     ]
    }
   ],
   "source": [
    "optimized_chromosome = genetic_algorithm()\n",
    "print(\"Optimized chromosome:\", optimized_chromosome)"
   ]
  },
  {
   "cell_type": "code",
   "execution_count": null,
   "id": "1ab17a76",
   "metadata": {},
   "outputs": [],
   "source": []
  },
  {
   "cell_type": "code",
   "execution_count": null,
   "id": "4dd891ef",
   "metadata": {},
   "outputs": [],
   "source": []
  }
 ],
 "metadata": {
  "kernelspec": {
   "display_name": "Python 3 (ipykernel)",
   "language": "python",
   "name": "python3"
  },
  "language_info": {
   "codemirror_mode": {
    "name": "ipython",
    "version": 3
   },
   "file_extension": ".py",
   "mimetype": "text/x-python",
   "name": "python",
   "nbconvert_exporter": "python",
   "pygments_lexer": "ipython3",
   "version": "3.11.0"
  }
 },
 "nbformat": 4,
 "nbformat_minor": 5
}
