{
 "cells": [
  {
   "cell_type": "code",
   "execution_count": 2,
   "id": "9900a3ab",
   "metadata": {},
   "outputs": [],
   "source": [
    "import numpy as np\n",
    "import pandas as pd\n",
    "import random"
   ]
  },
  {
   "cell_type": "code",
   "execution_count": 30,
   "id": "74fca78c",
   "metadata": {},
   "outputs": [],
   "source": [
    "POPULATION_SIZE = 50\n",
    "NUM_GENERATIONS = 25\n",
    "GENES = '''abcdefghijklmnopqrstuvwxyzABCDEFGHIJKLMNOPQRSTUVWXYZ '''\n",
    "TARGET = 'Hello World'\n",
    "CHROMOSOME_LEN = len(TARGET)\n",
    "MUTATION_RATE = 0.1"
   ]
  },
  {
   "cell_type": "code",
   "execution_count": 31,
   "id": "adf967a5",
   "metadata": {},
   "outputs": [],
   "source": [
    "def random_num(start, end):\n",
    "    range_val = (end - start) + 1\n",
    "    random_int = start + random.randint(0, range_val - 1)\n",
    "    return random_int"
   ]
  },
  {
   "cell_type": "code",
   "execution_count": 32,
   "id": "0938edb9",
   "metadata": {},
   "outputs": [],
   "source": [
    "def mutated_genes():\n",
    "    length_data = len(GENES)\n",
    "    random_index = random_num(0, length_data-1)\n",
    "    return GENES[random_index]"
   ]
  },
  {
   "cell_type": "code",
   "execution_count": 33,
   "id": "b70dc0d3",
   "metadata": {},
   "outputs": [],
   "source": [
    "def create_chromosome():\n",
    "    return ''.join(mutated_genes() for _ in range(CHROMOSOME_LEN))"
   ]
  },
  {
   "cell_type": "code",
   "execution_count": 34,
   "id": "a653aa4a",
   "metadata": {},
   "outputs": [],
   "source": [
    "def cal_fitness(chromosome): \n",
    "    fitness = 0\n",
    "    for gene_char, target_char in zip(chromosome, TARGET):\n",
    "        if gene_char == target_char:\n",
    "            fitness += 1\n",
    "    return fitness "
   ]
  },
  {
   "cell_type": "code",
   "execution_count": 35,
   "id": "c0c14281",
   "metadata": {},
   "outputs": [],
   "source": [
    "def create_init_population():\n",
    "    return [create_chromosome() for _ in range(POPULATION_SIZE)]"
   ]
  },
  {
   "cell_type": "code",
   "execution_count": 36,
   "id": "7616c940",
   "metadata": {},
   "outputs": [],
   "source": [
    "def select_parents(population, fitness_scores):\n",
    "    selected_parents = []\n",
    "    sorted_indices = np.argsort(fitness_scores)[::-1].tolist()\n",
    "    selected_population = [population[i] for i in sorted_indices[:POPULATION_SIZE // 2]]\n",
    "    \n",
    "    return selected_population"
   ]
  },
  {
   "cell_type": "code",
   "execution_count": 37,
   "id": "f51e13f0",
   "metadata": {},
   "outputs": [
    {
     "name": "stdout",
     "output_type": "stream",
     "text": [
      "[0, 0, 0, 0, 0, 0, 0, 0, 0, 1, 1, 0, 1, 0, 0, 1, 0, 1, 0, 0, 0, 1, 1, 0, 0, 0, 0, 0, 0, 0, 0, 0, 1, 0, 1, 0, 0, 0, 0, 0, 1, 0, 0, 0, 0, 0, 0, 0, 0, 1]\n",
      "[1, 1, 1, 1, 1, 1, 1, 1, 1, 1, 1]\n"
     ]
    }
   ],
   "source": [
    "a = create_init_population()\n",
    "def roulette_wheel_selection(population, fitness_values):\n",
    "    total_fitness = sum(fitness_values)\n",
    "    normalized_fitness = [fit / total_fitness for fit in fitness_values]\n",
    "    wheel = [sum(normalized_fitness[:i+1]) for i in range(len(normalized_fitness))]\n",
    "\n",
    "    selected_parents = []\n",
    "    \n",
    "    for i in range(POPULATION_SIZE // 2):\n",
    "        selection_point = random.uniform(0, 1)\n",
    "        selected_index = None\n",
    "        for i, value in enumerate(wheel):\n",
    "            if selection_point <= value:\n",
    "                selected_index = i\n",
    "                if population[selected_index] not in selected_parents:\n",
    "                    selected_parents.append(population[selected_index])\n",
    "                break\n",
    "                \n",
    "\n",
    "    return selected_parents\n",
    "\n",
    "fitness_scores = [cal_fitness(chromosome) for chromosome in a]\n",
    "print(fitness_scores)\n",
    "selected_individual = roulette_wheel_selection(a, fitness_scores)\n",
    "selected_fitness_scores = [cal_fitness(chromosome) for chromosome in selected_individual]\n",
    "print(selected_fitness_scores)\n",
    "# print(\"\\nSelected:\", selected_individual)"
   ]
  },
  {
   "cell_type": "code",
   "execution_count": 38,
   "id": "a92b306e",
   "metadata": {},
   "outputs": [],
   "source": [
    "def one_point_crossover(parent1, parent2):\n",
    "    crossover_point = random.randint(1, CHROMOSOME_LEN - 1)\n",
    "    child1 = parent1[:crossover_point] + parent2[crossover_point:]\n",
    "    child2 = parent2[:crossover_point] + parent1[crossover_point:]\n",
    "    \n",
    "    return child1, child2"
   ]
  },
  {
   "cell_type": "code",
   "execution_count": 42,
   "id": "d4e73260",
   "metadata": {},
   "outputs": [],
   "source": [
    "def two_point_crossover(parent1, parent2):\n",
    "    crossover_points = sorted(random.sample(range(1, CHROMOSOME_LEN - 1), 2))\n",
    "    point1, point2 = crossover_points\n",
    "\n",
    "    child1 = parent1[:point1] + parent2[point1:point2] + parent1[point2:]\n",
    "    child2 = parent2[:point1] + parent1[point1:point2] + parent2[point2:]\n",
    "\n",
    "    return child1, child2"
   ]
  },
  {
   "cell_type": "code",
   "execution_count": 43,
   "id": "5d505701",
   "metadata": {},
   "outputs": [],
   "source": [
    "a = create_chromosome()\n",
    "b = create_chromosome()\n",
    "def k_point_crossover(parent1, parent2):\n",
    "    K_CROSSOVER_POINTS = 4\n",
    "    crossover_points = sorted(random.sample(range(1, CHROMOSOME_LEN), K_CROSSOVER_POINTS))\n",
    "    \n",
    "    children = []\n",
    "    current_parent = parent1\n",
    "\n",
    "    for point in crossover_points:\n",
    "        children.append(current_parent[:point])\n",
    "        current_parent = parent2 if current_parent is parent1 else parent1\n",
    "\n",
    "    children.append(current_parent[point:])\n",
    "    \n",
    "    # Ensure child lengths are the same as parent lengths\n",
    "    child1 = \"\".join(children[::2]) + parent1[crossover_points[-1]:]\n",
    "    child2 = \"\".join(children[1::2]) + parent2[crossover_points[-1]:]\n",
    "    \n",
    "    return child1, child2\n"
   ]
  },
  {
   "cell_type": "code",
   "execution_count": 44,
   "id": "95b96676",
   "metadata": {},
   "outputs": [],
   "source": [
    "a = create_chromosome()\n",
    "b = create_chromosome()\n",
    "def uniform_crossover(parent1, parent2):\n",
    "    child1 = [gene1 if random.random() < MUTATION_RATE else gene2 for gene1, gene2 in zip(parent1, parent2)]\n",
    "    child2 = [gene2 if random.random() < MUTATION_RATE else gene1 for gene1, gene2 in zip(parent1, parent2)]\n",
    "    \n",
    "    return \"\".join(child1), \"\".join(child2)\n"
   ]
  },
  {
   "cell_type": "code",
   "execution_count": 57,
   "id": "d6fce11f",
   "metadata": {},
   "outputs": [
    {
     "name": "stdout",
     "output_type": "stream",
     "text": [
      "5 8 ['C', 'q', 'k', 'm', 's', 'b', 'I', 'R', 'S', 'h', 'G'] ['y', 'd', 'C', 'Y', ' ', 'e', 'l', 'u', 'C', 'L', 'W'] {'C': 0, 'q': 1, 'k': 2, 'm': 3, 's': 4, 'b': 5, 'I': 6, 'R': 7, 'S': 8, 'h': 9, 'G': 10} {'y': 0, 'd': 1, 'C': 8, 'Y': 3, ' ': 4, 'e': 5, 'l': 6, 'u': 7, 'L': 9, 'W': 10}\n",
      "CqkmsbIRShG ydCY eluCLW\n",
      "ydyY eluCLW yqkmsbIRShG\n"
     ]
    }
   ],
   "source": [
    "a = create_chromosome()\n",
    "b = create_chromosome()\n",
    "\n",
    "def pmx_crossover(parent1, parent2):\n",
    "    crossover_points = sorted(random.sample(range(CHROMOSOME_LEN), 2))\n",
    "    point1, point2 = crossover_points\n",
    "    child1 = list(parent1)\n",
    "    child2 = list(parent2)\n",
    "\n",
    "    mapping1 = {value: index for index, value in enumerate(parent1)}\n",
    "    mapping2 = {value: index for index, value in enumerate(parent2)}\n",
    "\n",
    "    for i in range(CHROMOSOME_LEN):\n",
    "        if i < point1 or i > point2:\n",
    "            if parent2[i] not in child1:\n",
    "                value = parent2[i]\n",
    "                while value in mapping1:\n",
    "                    index_in_mapping = mapping1[value]\n",
    "                    value = parent2[index_in_mapping]\n",
    "                child1[i] = value\n",
    "                \n",
    "            if parent1[i] not in child2:\n",
    "                value = parent1[i]\n",
    "                while value in mapping2:\n",
    "                    index_in_mapping = mapping2[value]\n",
    "                    value = parent1[index_in_mapping]\n",
    "                child2[i] = value\n",
    "                \n",
    "    positions = list(range(point1, point2+1))   \n",
    "    for i, position in enumerate(positions):\n",
    "        child1[position] = parent2[position]\n",
    "        child2[position] = parent1[position]\n",
    "\n",
    "    return ''.join(child1), ''.join(child2)\n",
    "\n",
    "child1, child2 = pmx_crossover(a, b)\n",
    "print(a, b)\n",
    "print(child1, child2)"
   ]
  },
  {
   "cell_type": "code",
   "execution_count": 46,
   "id": "25947ba9",
   "metadata": {},
   "outputs": [],
   "source": [
    "def mutate(chromosome):\n",
    "    chromosome_list = list(chromosome)\n",
    "    for i in range(CHROMOSOME_LEN):\n",
    "        if random.uniform(0, 1) < MUTATION_RATE:\n",
    "            chromosome_list[i] = mutated_genes()\n",
    "            \n",
    "    return ''.join(chromosome_list)"
   ]
  },
  {
   "cell_type": "code",
   "execution_count": 47,
   "id": "15e6eaf3",
   "metadata": {},
   "outputs": [
    {
     "name": "stdout",
     "output_type": "stream",
     "text": [
      "WmlthYAnpqt\n",
      "WlthYAnpmqt\n"
     ]
    }
   ],
   "source": [
    "b = create_chromosome()\n",
    "def displacement_mutation(chromosome):\n",
    "    chromosome_list = list(chromosome)\n",
    "\n",
    "    segment_size = random.randint(1, CHROMOSOME_LEN // 2)\n",
    "    start_position = random.randint(0, CHROMOSOME_LEN - segment_size)\n",
    "    segment = chromosome_list[start_position:start_position + segment_size]\n",
    "\n",
    "    del chromosome_list[start_position:start_position + segment_size]\n",
    "    insert_position = random.randint(0, CHROMOSOME_LEN - segment_size)\n",
    "    \n",
    "    result_list = chromosome_list[:insert_position] + segment + chromosome_list[insert_position:]\n",
    "    return ''.join(result_list)\n",
    "\n",
    "print(b)\n",
    "print(displacement_mutation(b))"
   ]
  },
  {
   "cell_type": "code",
   "execution_count": 48,
   "id": "a2aa806d",
   "metadata": {},
   "outputs": [
    {
     "name": "stdout",
     "output_type": "stream",
     "text": [
      "ssEUVtgsBga\n",
      "ssEUagBsgtV\n"
     ]
    }
   ],
   "source": [
    "b = create_chromosome()\n",
    "def simple_inversion_mutation(chromosome):\n",
    "\n",
    "    chromosome_list = list(chromosome)\n",
    "    position1, position2 = sorted(random.sample(range(CHROMOSOME_LEN), 2))\n",
    "    inversion_segment = chromosome_list[position1:position2+1]\n",
    "    inverted_segment = inversion_segment[::-1]\n",
    "    del chromosome_list[position1:position2+1]\n",
    "\n",
    "    insert_position = random.randint(0, CHROMOSOME_LEN - len(inverted_segment))\n",
    "    result_list = chromosome_list[:insert_position] + inverted_segment + chromosome_list[insert_position:]\n",
    "\n",
    "    return ''.join(result_list)\n",
    "\n",
    "print(b)\n",
    "print(simple_inversion_mutation(b))"
   ]
  },
  {
   "cell_type": "code",
   "execution_count": 49,
   "id": "b4b14428",
   "metadata": {},
   "outputs": [
    {
     "name": "stdout",
     "output_type": "stream",
     "text": [
      "LoTw jrhwfq\n",
      "LT whqofwjr\n"
     ]
    }
   ],
   "source": [
    "b = create_chromosome()\n",
    "def scramble_mutation(chromosome):\n",
    "    \n",
    "    subset_size = random.randint(1, CHROMOSOME_LEN)\n",
    "    subset_indices = random.sample(range(CHROMOSOME_LEN), subset_size)\n",
    "\n",
    "    shuffled_subset = random.sample(subset_indices, subset_size)\n",
    "\n",
    "    mutated_chromosome = list(chromosome)\n",
    "    for i, index in enumerate(subset_indices):\n",
    "        mutated_chromosome[index] = chromosome[shuffled_subset[i]]\n",
    "\n",
    "    return ''.join(mutated_chromosome)\n",
    "\n",
    "print(b)\n",
    "print(scramble_mutation(b))"
   ]
  },
  {
   "cell_type": "code",
   "execution_count": 52,
   "id": "b1427623",
   "metadata": {},
   "outputs": [],
   "source": [
    "def genetic_algorithm():\n",
    "    population = create_init_population()\n",
    "    best_solution = population[0]\n",
    "\n",
    "    while (best_solution != TARGET):\n",
    "        fitness_scores = [cal_fitness(chromosome) for chromosome in population]\n",
    "        selected_parents = select_parents(population, fitness_scores)\n",
    "#         selected_parents = roulette_wheel_selection(population, fitness_scores)\n",
    "\n",
    "        children = []\n",
    "        for _ in range(POPULATION_SIZE):\n",
    "            parent1, parent2 = random.sample(selected_parents, 2)\n",
    "            child1, child2 = uniform_crossover(parent1, parent2)\n",
    "            child1 = mutate(child1)\n",
    "            child2 = mutate(child2)\n",
    "            children.extend([child1, child2])\n",
    "\n",
    "        population = children\n",
    "        best_solution = max(population, key=cal_fitness)\n",
    "        print(best_solution)\n",
    "    \n",
    "    return best_solution"
   ]
  },
  {
   "cell_type": "code",
   "execution_count": 53,
   "id": "83eb3802",
   "metadata": {},
   "outputs": [
    {
     "name": "stdout",
     "output_type": "stream",
     "text": [
      "TePFypTopxp\n",
      "HStWHOWjfsI\n",
      "TePWopToFrp\n",
      "HStWFOWofsX\n",
      "JePFopWoFSp\n",
      "HdPFo Wodrv\n",
      "HeXRo LoQgF\n",
      "HelVo TopUp\n",
      "HeXIo WoFgF\n",
      "HelVo TopTp\n",
      "HelYo TopUr\n",
      "HelVo Toplp\n",
      "Helko Toplp\n",
      "HelYo ToAll\n",
      "HelVo WoXXd\n",
      "HelVo WoZll\n",
      "HelVo Wo ld\n",
      "HelVo WoXld\n",
      "HelVo WoXld\n",
      "Hello WoXlR\n",
      "Helco Wonld\n",
      "Hello WoJld\n",
      "Hello WoXld\n",
      "Hello WoUld\n",
      "Hello WoUld\n",
      "Hello WoXld\n",
      "Hello World\n",
      "Optimized chromosome: Hello World\n"
     ]
    }
   ],
   "source": [
    "optimized_chromosome = genetic_algorithm()\n",
    "print(\"Optimized chromosome:\", optimized_chromosome)"
   ]
  },
  {
   "cell_type": "code",
   "execution_count": null,
   "id": "1ab17a76",
   "metadata": {},
   "outputs": [],
   "source": []
  },
  {
   "cell_type": "code",
   "execution_count": null,
   "id": "4dd891ef",
   "metadata": {},
   "outputs": [],
   "source": []
  }
 ],
 "metadata": {
  "kernelspec": {
   "display_name": "Python 3 (ipykernel)",
   "language": "python",
   "name": "python3"
  },
  "language_info": {
   "codemirror_mode": {
    "name": "ipython",
    "version": 3
   },
   "file_extension": ".py",
   "mimetype": "text/x-python",
   "name": "python",
   "nbconvert_exporter": "python",
   "pygments_lexer": "ipython3",
   "version": "3.11.0"
  }
 },
 "nbformat": 4,
 "nbformat_minor": 5
}
